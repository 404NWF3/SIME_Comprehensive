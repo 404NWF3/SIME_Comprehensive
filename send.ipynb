{
 "cells": [
  {
   "cell_type": "code",
   "execution_count": null,
   "id": "adcee829",
   "metadata": {},
   "outputs": [],
   "source": [
    "import smtplib\n",
    "from email.mime.multipart import MIMEMultipart\n",
    "from email.mime.text import MIMEText\n",
    "from email.mime.application import MIMEApplication\n",
    "from email.header import Header\n",
    "from email.utils import formataddr\n",
    "import glob\n",
    "import time"
   ]
  },
  {
   "cell_type": "code",
   "execution_count": null,
   "id": "23703c04",
   "metadata": {},
   "outputs": [],
   "source": [
    "filepaths = glob.glob('personaldata/*')\n",
    "filepaths"
   ]
  },
  {
   "cell_type": "code",
   "execution_count": null,
   "id": "43dc4bf5",
   "metadata": {},
   "outputs": [],
   "source": [
    "# --- 邮件配置 ---\n",
    "# SMTP 服务器配置\n",
    "smtp_server = 'smtp.qq.com'  # 例如: smtp.qq.com\n",
    "smtp_port = 465              # SSL 端口\n",
    "# 发件人账户信息\n",
    "sender_email = '123456789@qq.com'      # 你的邮箱地址\n",
    "sender_password = 'abcdefghijklmn'     # 你的邮箱授权码，而不是登录密码！\n"
   ]
  },
  {
   "cell_type": "code",
   "execution_count": null,
   "id": "70845732",
   "metadata": {},
   "outputs": [],
   "source": [
    "server = None\n",
    "try:\n",
    "    print(\"正在连接到 SMTP 服务器...\")\n",
    "    server = smtplib.SMTP_SSL(smtp_server, smtp_port, timeout=20)\n",
    "    print(\"服务器连接成功，正在登录...\")\n",
    "    server.login(sender_email, sender_password)\n",
    "    print(\"登录成功，准备开始批量发送邮件...\\n\")\n",
    "\n",
    "    for filepath in filepaths:\n",
    "        try:\n",
    "            number = filepath.split(sep=\"\\\\\")[1].split(\".\")[0]\n",
    "            number = str(number)\n",
    "            print(\"______________________________________________\")\n",
    "            print(f\"正在为学号 {number} 准备邮件...\")\n",
    "\n",
    "            recipient_email = f'{number}@stu.sufe.edu.cn'\n",
    "\n",
    "            msg = MIMEMultipart()\n",
    "            msg['From'] = formataddr((Header('倪伟丰', 'utf-8').encode(), sender_email))\n",
    "            msg['To'] = formataddr((Header(f'{number}', 'utf-8').encode(), recipient_email))\n",
    "            msg['Subject'] = Header('综测评分数据，请检查是否计算正确', 'utf-8')\n",
    "            body_content = \"你好，这是你的综测评分数据，请你检查是否有计算错误！\"\n",
    "            msg.attach(MIMEText(body_content, 'plain', 'utf-8'))\n",
    "\n",
    "            with open(filepath, 'rb') as f:\n",
    "                attachment = MIMEApplication(f.read())\n",
    "            attachment.add_header('Content-Disposition', 'attachment', filename=filepath)\n",
    "            msg.attach(attachment)\n",
    "\n",
    "            server.sendmail(sender_email, [recipient_email], msg.as_string())\n",
    "            print(f\"邮件已成功发送至: {recipient_email}\")\n",
    "\n",
    "        except FileNotFoundError:\n",
    "            print(f\"[错误] 附件文件未找到于路径 '{filepath}'，已跳过。\")\n",
    "            continue\n",
    "        except Exception as e:\n",
    "            print(f\"[错误] 处理 {number} 的邮件时发生错误: {e}，已跳过。\")\n",
    "            continue\n",
    "\n",
    "        time.sleep(1)\n",
    "\n",
    "except smtplib.SMTPAuthenticationError:\n",
    "    print(\"SMTP 认证失败！请检查邮箱地址和授权码是否正确。\")\n",
    "except Exception as e:\n",
    "    print(f\"发生严重错误: {e}\")\n",
    "finally:\n",
    "    if server:\n",
    "        try:\n",
    "            server.quit()\n",
    "            print(\"\\n所有邮件处理完毕，已成功关闭与服务器的连接。\")\n",
    "        except smtplib.SMTPServerDisconnected:\n",
    "            print(\"\\n服务器已提前断开连接，程序正常清理完毕。\")"
   ]
  }
 ],
 "metadata": {
  "kernelspec": {
   "display_name": "datamath310",
   "language": "python",
   "name": "python3"
  },
  "language_info": {
   "codemirror_mode": {
    "name": "ipython",
    "version": 3
   },
   "file_extension": ".py",
   "mimetype": "text/x-python",
   "name": "python",
   "nbconvert_exporter": "python",
   "pygments_lexer": "ipython3",
   "version": "3.10.18"
  }
 },
 "nbformat": 4,
 "nbformat_minor": 5
}
