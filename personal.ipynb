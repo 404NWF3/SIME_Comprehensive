{
 "cells": [
  {
   "cell_type": "code",
   "execution_count": null,
   "id": "6ab4e049",
   "metadata": {},
   "outputs": [],
   "source": [
    "import pandas as pd"
   ]
  },
  {
   "cell_type": "code",
   "execution_count": null,
   "id": "b7df23f3",
   "metadata": {},
   "outputs": [],
   "source": [
    "final_sheet = pd.read_excel('ForEmail.xlsx', sheet_name=\"汇总表 (排名)\", index_col=0)\n",
    "score = pd.read_excel('ForEmail.xlsx', sheet_name=\"成绩计算草稿1\")\n",
    "deyu = pd.read_excel('ForEmail.xlsx', sheet_name=\"德育汇总\")"
   ]
  },
  {
   "cell_type": "code",
   "execution_count": null,
   "id": "c4d4d53d",
   "metadata": {},
   "outputs": [],
   "source": [
    "final_sheet.head()"
   ]
  },
  {
   "cell_type": "code",
   "execution_count": null,
   "id": "20d396d7",
   "metadata": {},
   "outputs": [],
   "source": [
    "numbers =  final_sheet['学号'].tolist()"
   ]
  },
  {
   "cell_type": "code",
   "execution_count": null,
   "id": "5eb217ca",
   "metadata": {},
   "outputs": [],
   "source": [
    "for num in numbers:\n",
    "    filename = f\"personaldata/{num}.xlsx\"\n",
    "    with pd.ExcelWriter(filename) as writer:\n",
    "        final_sheet[final_sheet['学号'] == num].to_excel(writer, sheet_name=\"汇总表 (排名)\")\n",
    "        score[score['学号'] == num].to_excel(writer, sheet_name=\"成绩计算草稿1\", index=False)\n",
    "        deyu[deyu['学号'] == num].to_excel(writer, sheet_name=\"德育汇总\", index=False)"
   ]
  }
 ],
 "metadata": {
  "kernelspec": {
   "display_name": "datamath310",
   "language": "python",
   "name": "python3"
  },
  "language_info": {
   "codemirror_mode": {
    "name": "ipython",
    "version": 3
   },
   "file_extension": ".py",
   "mimetype": "text/x-python",
   "name": "python",
   "nbconvert_exporter": "python",
   "pygments_lexer": "ipython3",
   "version": "3.10.18"
  }
 },
 "nbformat": 4,
 "nbformat_minor": 5
}
