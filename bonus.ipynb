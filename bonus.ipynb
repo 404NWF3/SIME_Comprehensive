{
 "cells": [
  {
   "cell_type": "code",
   "execution_count": 7,
   "id": "ec3c6172",
   "metadata": {},
   "outputs": [],
   "source": [
    "import pandas as pd\n",
    "import glob"
   ]
  },
  {
   "cell_type": "code",
   "execution_count": 8,
   "id": "c87dd72a",
   "metadata": {},
   "outputs": [],
   "source": [
    "file_paths = glob.glob('data/bonus/*.xlsx')\n"
   ]
  },
  {
   "cell_type": "code",
   "execution_count": 9,
   "id": "3981e679",
   "metadata": {},
   "outputs": [],
   "source": [
    "df = pd.DataFrame()"
   ]
  },
  {
   "cell_type": "code",
   "execution_count": 10,
   "id": "9d7089fa",
   "metadata": {},
   "outputs": [],
   "source": [
    "for file in file_paths:\n",
    "    filename = file.split(\"\\\\\")[1].split('.')[0]\n",
    "    numbeer = filename[:10]\n",
    "    name = filename[10:]\n",
    "    temp_df = pd.read_excel(file)\n",
    "    "
   ]
  },
  {
   "cell_type": "code",
   "execution_count": 11,
   "id": "b8dfbda0",
   "metadata": {},
   "outputs": [
    {
     "data": {
      "text/html": [
       "<div>\n",
       "<style scoped>\n",
       "    .dataframe tbody tr th:only-of-type {\n",
       "        vertical-align: middle;\n",
       "    }\n",
       "\n",
       "    .dataframe tbody tr th {\n",
       "        vertical-align: top;\n",
       "    }\n",
       "\n",
       "    .dataframe thead th {\n",
       "        text-align: right;\n",
       "    }\n",
       "</style>\n",
       "<table border=\"1\" class=\"dataframe\">\n",
       "  <thead>\n",
       "    <tr style=\"text-align: right;\">\n",
       "      <th></th>\n",
       "      <th>学号</th>\n",
       "      <th>姓名</th>\n",
       "      <th>项目</th>\n",
       "      <th>加分</th>\n",
       "      <th>项目.1</th>\n",
       "      <th>加分.1</th>\n",
       "      <th>项目.2</th>\n",
       "      <th>加分.2</th>\n",
       "      <th>德育汇总（5分）</th>\n",
       "      <th>项目.3</th>\n",
       "      <th>加分.3</th>\n",
       "      <th>智育汇总（5分）</th>\n",
       "      <th>体育汇总（3分）</th>\n",
       "      <th>美育汇总（2分）</th>\n",
       "      <th>劳育汇总（2分）</th>\n",
       "      <th>所有拔尖项汇总</th>\n",
       "      <th>备注</th>\n",
       "    </tr>\n",
       "  </thead>\n",
       "  <tbody>\n",
       "    <tr>\n",
       "      <th>0</th>\n",
       "      <td>2024123456</td>\n",
       "      <td>倪小丰</td>\n",
       "      <td>校级_2025_优秀团员</td>\n",
       "      <td>0.5</td>\n",
       "      <td>2025_行政班班长</td>\n",
       "      <td>0.5</td>\n",
       "      <td>2025_知行杯_参与结项</td>\n",
       "      <td>0.5</td>\n",
       "      <td>1.5</td>\n",
       "      <td>国家级_2025_大学生计算机设计_三等奖_团队（3人）_组员</td>\n",
       "      <td>1.6</td>\n",
       "      <td>1.6</td>\n",
       "      <td>0</td>\n",
       "      <td>0</td>\n",
       "      <td>0</td>\n",
       "      <td>3.1</td>\n",
       "      <td>NaN</td>\n",
       "    </tr>\n",
       "  </tbody>\n",
       "</table>\n",
       "</div>"
      ],
      "text/plain": [
       "           学号   姓名            项目   加分        项目.1  加分.1           项目.2  加分.2  \\\n",
       "0  2024123456  倪小丰  校级_2025_优秀团员  0.5  2025_行政班班长   0.5  2025_知行杯_参与结项   0.5   \n",
       "\n",
       "   德育汇总（5分）                             项目.3  加分.3  智育汇总（5分）  体育汇总（3分）  \\\n",
       "0       1.5  国家级_2025_大学生计算机设计_三等奖_团队（3人）_组员   1.6       1.6         0   \n",
       "\n",
       "   美育汇总（2分）  劳育汇总（2分）  所有拔尖项汇总  备注  \n",
       "0         0         0      3.1 NaN  "
      ]
     },
     "execution_count": 11,
     "metadata": {},
     "output_type": "execute_result"
    }
   ],
   "source": [
    "test = pd.read_excel('data\\\\bonus\\\\2024123456倪小丰.xlsx')\n",
    "test.head()"
   ]
  },
  {
   "cell_type": "code",
   "execution_count": 12,
   "id": "2032d5ce",
   "metadata": {},
   "outputs": [
    {
     "data": {
      "text/plain": [
       "Index(['学号', '姓名', '项目', '加分', '项目.1', '加分.1', '项目.2', '加分.2', '德育汇总（5分）',\n",
       "       '项目.3', '加分.3', '智育汇总（5分）', '体育汇总（3分）', '美育汇总（2分）', '劳育汇总（2分）',\n",
       "       '所有拔尖项汇总', '备注'],\n",
       "      dtype='object')"
      ]
     },
     "execution_count": 12,
     "metadata": {},
     "output_type": "execute_result"
    }
   ],
   "source": [
    "test.columns"
   ]
  },
  {
   "cell_type": "code",
   "execution_count": 13,
   "id": "0aca17f2",
   "metadata": {},
   "outputs": [],
   "source": [
    "total_dict = {}\n",
    "\n",
    "sections = [\n",
    "    (\"德育\", \"德育汇总（5分）\"),\n",
    "    (\"智育\", \"智育汇总（5分）\"),\n",
    "    (\"体育\", \"体育汇总（3分）\"),\n",
    "    (\"美育\", \"美育汇总（2分）\"),\n",
    "    (\"劳育\", \"劳育汇总（2分）\")\n",
    "]\n",
    "\n",
    "total_dict = {}\n",
    "\n",
    "for file in file_paths:\n",
    "    # print(file)\n",
    "    temp_df = pd.read_excel(file)\n",
    "    row = temp_df.iloc[0]\n",
    "    student_id = row['学号']\n",
    "    student_name = row['姓名']\n",
    "\n",
    "    # 获取各板块汇总分\n",
    "    section_scores = {}\n",
    "    for section, col in sections:\n",
    "        section_scores[section] = row.get(col, None)\n",
    "\n",
    "    # 按板块分类加分项\n",
    "    section_bonus = {sec: [] for sec, _ in sections}\n",
    "    col_list = temp_df.columns.tolist()\n",
    "    # 找到各板块汇总列的索引\n",
    "    section_indices = [col_list.index(col) if col in col_list else None for _, col in sections]\n",
    "\n",
    "    for i in range(len(col_list)):\n",
    "        col = col_list[i]\n",
    "        if col.startswith(\"项目\"):\n",
    "            bonus_col = col.replace(\"项目\", \"加分\")\n",
    "            item = row[col]\n",
    "            bonus = row.get(bonus_col, None)\n",
    "            if pd.notna(item) and pd.notna(bonus):\n",
    "                # 判断属于哪个板块\n",
    "                for idx, (sec, _) in enumerate(sections):\n",
    "                    start = section_indices[idx - 1] + 1 if idx > 0 else 0\n",
    "                    end = section_indices[idx]\n",
    "                    if start <= i < end:\n",
    "                        section_bonus[sec].append((item, bonus))\n",
    "                        break\n",
    "\n",
    "    total_dict[student_id] = {\n",
    "        \"姓名\": student_name,\n",
    "        \"加分项\": section_bonus,\n",
    "        \"板块总分\": section_scores\n",
    "    }"
   ]
  },
  {
   "cell_type": "code",
   "execution_count": 14,
   "id": "2613d802",
   "metadata": {},
   "outputs": [],
   "source": [
    "sections = [\n",
    "    (\"德育\", \"德育汇总（5分）\"),\n",
    "    (\"智育\", \"智育汇总（5分）\"),\n",
    "    (\"体育\", \"体育汇总（3分）\"),\n",
    "    (\"美育\", \"美育汇总（2分）\"),\n",
    "    (\"劳育\", \"劳育汇总（2分）\")\n",
    "]\n",
    "\n",
    "total_dict = {}\n",
    "\n",
    "for file in file_paths:\n",
    "    temp_df = pd.read_excel(file)\n",
    "    row = temp_df.iloc[0]\n",
    "    student_id = row['学号']\n",
    "    student_name = row['姓名']\n",
    "\n",
    "    section_scores = {}\n",
    "    for section, col in sections:\n",
    "        val = row.get(col, 0)\n",
    "        section_scores[section] = 0 if pd.isna(val) else val\n",
    "\n",
    "    section_bonus = {sec: [] for sec, _ in sections}\n",
    "    col_list = temp_df.columns.tolist()\n",
    "    section_indices = [col_list.index(col) if col in col_list else None for _, col in sections]\n",
    "\n",
    "    for i in range(len(col_list)):\n",
    "        col = col_list[i]\n",
    "        if col.startswith(\"项目\"):\n",
    "            item = row[col]\n",
    "            if pd.isna(item):\n",
    "                continue  # 项目缺失直接跳过\n",
    "            bonus_col = col.replace(\"项目\", \"加分\")\n",
    "            bonus = row.get(bonus_col, None)\n",
    "            if pd.notna(bonus):\n",
    "                for idx, (sec, _) in enumerate(sections):\n",
    "                    start = section_indices[idx - 1] + 1 if idx > 0 else 0\n",
    "                    end = section_indices[idx]\n",
    "                    if start <= i < end:\n",
    "                        section_bonus[sec].append((item, bonus))\n",
    "                        break\n",
    "\n",
    "    total_dict[student_id] = {\n",
    "        \"姓名\": student_name,\n",
    "        \"加分项\": section_bonus,\n",
    "        \"板块总分\": section_scores,\n",
    "        \"总分\": sum(section_scores.values())\n",
    "    }"
   ]
  },
  {
   "cell_type": "code",
   "execution_count": 15,
   "id": "283eb4ee",
   "metadata": {},
   "outputs": [],
   "source": [
    "# total_dict"
   ]
  },
  {
   "cell_type": "code",
   "execution_count": 16,
   "id": "bea68f92",
   "metadata": {},
   "outputs": [],
   "source": [
    "import numpy as np\n",
    "\n",
    "max_bonus_counts = {}\n",
    "for sec, _ in sections:\n",
    "    max_bonus_counts[sec] = max(len(total_dict[sid]['加分项'][sec]) for sid in total_dict)\n",
    "\n",
    "columns = ['学号', '姓名']\n",
    "for sec, col_name in sections:\n",
    "    for i in range(1, max_bonus_counts[sec] + 1):\n",
    "        columns.append(f\"{sec}项目{i}\")\n",
    "        columns.append(f\"{sec}分数{i}\")\n",
    "    columns.append(col_name)\n",
    "columns += ['所有拔尖项汇总', '备注']\n",
    "\n",
    "data = []\n",
    "for sid, info in total_dict.items():\n",
    "    row = [sid, info['姓名']]\n",
    "    for sec, col_name in sections:\n",
    "        bonus_items = info['加分项'][sec]\n",
    "        for i in range(max_bonus_counts[sec]):\n",
    "            if i < len(bonus_items):\n",
    "                row.append(bonus_items[i][0])\n",
    "                row.append(bonus_items[i][1])\n",
    "            else:\n",
    "                row.append(np.nan)\n",
    "                row.append(np.nan)\n",
    "        row.append(info['板块总分'][sec])\n",
    "    row.append(info['总分'])\n",
    "    row.append('')\n",
    "    data.append(row)\n",
    "\n",
    "summary_df = pd.DataFrame(data, columns=columns)"
   ]
  },
  {
   "cell_type": "code",
   "execution_count": 17,
   "id": "3bd49f3e",
   "metadata": {},
   "outputs": [
    {
     "data": {
      "text/plain": [
       "(2, 17)"
      ]
     },
     "execution_count": 17,
     "metadata": {},
     "output_type": "execute_result"
    }
   ],
   "source": [
    "summary_df.shape"
   ]
  },
  {
   "cell_type": "code",
   "execution_count": 18,
   "id": "3d64f2f1",
   "metadata": {},
   "outputs": [],
   "source": [
    "standard_columns = pd.read_excel('data/Part2.xlsx')"
   ]
  },
  {
   "cell_type": "code",
   "execution_count": 19,
   "id": "9083eb0f",
   "metadata": {},
   "outputs": [],
   "source": [
    "all_numbers = standard_columns['学号'].tolist()\n",
    "# 转专业同学学号\n",
    "drop_list = [2024111155, 2024111279, 2024110220, 2024110888, 2024111547, 2024111923, 2024110867]"
   ]
  },
  {
   "cell_type": "code",
   "execution_count": 20,
   "id": "0e8c7bb1",
   "metadata": {},
   "outputs": [
    {
     "data": {
      "text/plain": [
       "(2, 17)"
      ]
     },
     "execution_count": 20,
     "metadata": {},
     "output_type": "execute_result"
    }
   ],
   "source": [
    "summary_df = summary_df[~summary_df['学号'].isin(drop_list)]\n",
    "summary_df.shape"
   ]
  },
  {
   "cell_type": "code",
   "execution_count": 21,
   "id": "cc2a5635",
   "metadata": {},
   "outputs": [],
   "source": [
    "not_updated = [x for x in all_numbers if x not in summary_df['学号'].tolist()]"
   ]
  },
  {
   "cell_type": "code",
   "execution_count": 22,
   "id": "bd8a4198",
   "metadata": {},
   "outputs": [
    {
     "data": {
      "text/html": [
       "<div>\n",
       "<style scoped>\n",
       "    .dataframe tbody tr th:only-of-type {\n",
       "        vertical-align: middle;\n",
       "    }\n",
       "\n",
       "    .dataframe tbody tr th {\n",
       "        vertical-align: top;\n",
       "    }\n",
       "\n",
       "    .dataframe thead th {\n",
       "        text-align: right;\n",
       "    }\n",
       "</style>\n",
       "<table border=\"1\" class=\"dataframe\">\n",
       "  <thead>\n",
       "    <tr style=\"text-align: right;\">\n",
       "      <th></th>\n",
       "      <th>学号</th>\n",
       "      <th>姓名</th>\n",
       "      <th>班级</th>\n",
       "      <th>均分</th>\n",
       "      <th>门数</th>\n",
       "      <th>总学分</th>\n",
       "      <th>pe1_score</th>\n",
       "      <th>pe2_score</th>\n",
       "      <th>除去体育分数</th>\n",
       "      <th>学业水平分</th>\n",
       "      <th>体育分数</th>\n",
       "      <th>德育成绩</th>\n",
       "    </tr>\n",
       "  </thead>\n",
       "  <tbody>\n",
       "  </tbody>\n",
       "</table>\n",
       "</div>"
      ],
      "text/plain": [
       "Empty DataFrame\n",
       "Columns: [学号, 姓名, 班级, 均分, 门数, 总学分, pe1_score, pe2_score, 除去体育分数, 学业水平分, 体育分数, 德育成绩]\n",
       "Index: []"
      ]
     },
     "execution_count": 22,
     "metadata": {},
     "output_type": "execute_result"
    }
   ],
   "source": [
    "standard_columns[standard_columns['学号'].isin(not_updated)]"
   ]
  },
  {
   "cell_type": "code",
   "execution_count": 23,
   "id": "c054c5ac",
   "metadata": {},
   "outputs": [],
   "source": [
    "with pd.ExcelWriter('data/bonus_scores.xlsx') as writer:\n",
    "    summary_df.to_excel(writer, sheet_name='加分项（分模块）', index=False)"
   ]
  }
 ],
 "metadata": {
  "kernelspec": {
   "display_name": "datamath310",
   "language": "python",
   "name": "python3"
  },
  "language_info": {
   "codemirror_mode": {
    "name": "ipython",
    "version": 3
   },
   "file_extension": ".py",
   "mimetype": "text/x-python",
   "name": "python",
   "nbconvert_exporter": "python",
   "pygments_lexer": "ipython3",
   "version": "3.10.18"
  }
 },
 "nbformat": 4,
 "nbformat_minor": 5
}
