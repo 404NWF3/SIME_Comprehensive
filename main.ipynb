{
 "cells": [
  {
   "cell_type": "code",
   "execution_count": 1,
   "id": "0a7a47ce",
   "metadata": {},
   "outputs": [],
   "source": [
    "import pandas as pd\n",
    "import numpy as np\n",
    "import glob"
   ]
  },
  {
   "cell_type": "code",
   "execution_count": 3,
   "id": "c6ccb7e2",
   "metadata": {},
   "outputs": [],
   "source": [
    "# 处理计算学业水平分，得到Part1.xlsx\n",
    "file_path = \"data\\\\牢数据2班.xlsx\"\n",
    "\n",
    "total_score = pd.read_excel(file_path, sheet_name='Sheet1')\n",
    "\n",
    "pe1 = pd.read_excel(file_path, sheet_name='体育1')\n",
    "pe2 = pd.read_excel(file_path, sheet_name='体育2')\n",
    "\n",
    "df = total_score.copy()\n",
    "pe1_lessons = pe1.columns.drop(['序号', '学号', '姓名']).tolist()\n",
    "pe2_lessons = pe2.columns.drop(['序号', '学号', '姓名']).tolist()\n",
    "\n",
    "def find_pe_score_apply(row, lessons):\n",
    "    for col in lessons:\n",
    "        val = row[col]\n",
    "        if isinstance(val, str) and val.strip() == '--':\n",
    "            val = float('nan')\n",
    "        if pd.notna(val):\n",
    "            return val\n",
    "    return float('nan')\n",
    "\n",
    "pe1['final_score'] = pe1.apply(find_pe_score_apply, axis=1, lessons=pe1_lessons)\n",
    "pe2['final_score'] = pe2.apply(find_pe_score_apply, axis=1, lessons=pe2_lessons)\n",
    "\n",
    "df = df.merge(pe1[['学号', 'final_score']].rename(columns={'final_score': 'pe1_score'}), on='学号', how='left')\n",
    "df = df.merge(pe2[['学号', 'final_score']].rename(columns={'final_score': 'pe2_score'}), on='学号', how='left')\n",
    "\n",
    "def calc(row):\n",
    "        pe1 = pd.to_numeric(row['pe1_score'], errors='coerce')\n",
    "        pe2 = pd.to_numeric(row['pe2_score'], errors='coerce')\n",
    "        total = row['均分'] * (row['总学分'] - 1) # 减去国家安全教育\n",
    "        # 体育分遇到特殊情况特殊处理\n",
    "        if pd.isna(pe1) and pd.isna(pe2):\n",
    "            return total / (row['总学分'] - 1)\n",
    "        elif pd.isna(pe1): # 假设没选体育，具体情况具体分析\n",
    "            return (total - pe2) / (row['总学分'] - 2)\n",
    "        elif pd.isna(pe2): # 假设没选体育，具体情况具体分析\n",
    "            return (total - pe1) / (row['总学分'] - 2)\n",
    "        else:\n",
    "            return (total - pe1 - pe2) / (row['总学分'] - 3)\n",
    "        \n",
    "df['除去体育分数'] = df.apply(calc, axis=1)\n",
    "\n",
    "df['学业水平分'] = df['除去体育分数'] * 0.6\n",
    "df['体育分数'] = (df['pe1_score'].fillna(0) + df['pe2_score'].fillna(0)) / 100 \n",
    "\n",
    "df.to_csv('data/final_data.csv', index=False, encoding='utf-8')\n",
    "\n",
    "with pd.ExcelWriter('data/Part1.xlsx') as writer:\n",
    "    df.to_excel(writer, sheet_name='scores', index=False)"
   ]
  },
  {
   "cell_type": "code",
   "execution_count": null,
   "id": "b288d618",
   "metadata": {},
   "outputs": [
    {
     "name": "stdout",
     "output_type": "stream",
     "text": [
      "缺少德育评分的学号： []\n"
     ]
    }
   ],
   "source": [
    "file_paths = glob.glob('data/deyu_score/*.xlsx')\n",
    "test = pd.read_excel(file_paths[0])\n",
    "df = pd.DataFrame()\n",
    "\n",
    "for file in file_paths:\n",
    "    cur = pd.read_excel(file)\n",
    "    number = file.split('\\\\')[1].split('德育')[0]\n",
    "    # print(number)\n",
    "    df[number] = cur['德育评分']\n",
    "\n",
    "df['学号'] = test['学号']\n",
    "df.set_index('学号', inplace=True)\n",
    "\n",
    "\n",
    "def calc_row(row):\n",
    "    # 除去自己分数后的所有分数\n",
    "    scores = [row[col] for col in df.columns if col != str(row.name)]\n",
    "    # 计算平均分\n",
    "    return pd.Series(scores).mean()\n",
    "\n",
    "df['final'] = df.apply(calc_row, axis=1)\n",
    "\n",
    "df.to_excel('data/德育汇总.xlsx', sheet_name='德育汇总')\n",
    "\n",
    "missing_index = [idx for idx in df.index if str(idx) not in df.columns]\n",
    "print(\"缺少德育评分的学号：\", missing_index)\n",
    "\n",
    "# 综合到Part1表格\n",
    "final_score = pd.read_excel('data/Part1.xlsx', index_col='学号')\n",
    "final_score.drop(columns=['序号'], inplace=True, axis=0)\n",
    "final_score = final_score.join(df['final'])\n",
    "final_score.rename(columns={'final': '德育成绩'}, inplace=True)\n",
    "\n",
    "with pd.ExcelWriter('data/Part2.xlsx') as writer:\n",
    "    final_score.to_excel(writer, sheet_name='scores', index=True)"
   ]
  }
 ],
 "metadata": {
  "kernelspec": {
   "display_name": "datamath310",
   "language": "python",
   "name": "python3"
  },
  "language_info": {
   "codemirror_mode": {
    "name": "ipython",
    "version": 3
   },
   "file_extension": ".py",
   "mimetype": "text/x-python",
   "name": "python",
   "nbconvert_exporter": "python",
   "pygments_lexer": "ipython3",
   "version": "3.10.18"
  }
 },
 "nbformat": 4,
 "nbformat_minor": 5
}
